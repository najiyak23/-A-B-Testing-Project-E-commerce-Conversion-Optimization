{
  "nbformat": 4,
  "nbformat_minor": 0,
  "metadata": {
    "colab": {
      "provenance": [],
      "authorship_tag": "ABX9TyNwtz1kbFmaKbCeqLol10Ma",
      "include_colab_link": true
    },
    "kernelspec": {
      "name": "python3",
      "display_name": "Python 3"
    },
    "language_info": {
      "name": "python"
    }
  },
  "cells": [
    {
      "cell_type": "markdown",
      "metadata": {
        "id": "view-in-github",
        "colab_type": "text"
      },
      "source": [
        "<a href=\"https://colab.research.google.com/github/najiyak23/-A-B-Testing-Project-E-commerce-Conversion-Optimization/blob/main/A_B_testing.ipynb\" target=\"_parent\"><img src=\"https://colab.research.google.com/assets/colab-badge.svg\" alt=\"Open In Colab\"/></a>"
      ]
    },
    {
      "cell_type": "markdown",
      "source": [
        "# A/B Testing Project – E-commerce Dataset"
      ],
      "metadata": {
        "id": "ydgAJbbYEk8G"
      }
    },
    {
      "cell_type": "markdown",
      "source": [
        "## 1. Introduction\n",
        "\n",
        "E-commerce companies frequently run **A/B tests** to optimize user experience and boost conversion rates.  \n",
        "In this project, we analyze an experiment where users were randomly assigned to:\n",
        "\n",
        "- **Control group** → old website design  \n",
        "- **Treatment group** → new website design  \n",
        "\n",
        "### Problem Statement\n",
        "The company wants to know whether the new design **increases the conversion rate** compared to the old design.\n",
        "\n",
        "### Hypotheses\n",
        "- **H₀ (Null Hypothesis):** Conversion rate (control) = Conversion rate (treatment)  \n",
        "- **H₁ (Alternative Hypothesis):** Conversion rate (control) ≠ Conversion rate (treatment)  \n",
        "\n",
        "We will test this using a **two-proportion z-test**, calculate **confidence intervals**, and provide business insights.\n",
        "\n",
        "### Why a Z-test (and not a t-test)?\n",
        "\n",
        "- The outcome variable (**conversion**) is **binary** (0 = no conversion, 1 = conversion).  \n",
        "- We are comparing **two proportions** (conversion rate of old page vs. new page).  \n",
        "- For large sample sizes, the **sampling distribution of proportions** approximates a **normal distribution** (Central Limit Theorem).  \n",
        "- Therefore, we use a **two-proportion z-test**.  \n",
        "\n",
        "👉 A **t-test** is used when comparing **means of continuous variables** (e.g., time on site, revenue).  \n",
        "Since we’re working with **proportions**, the **z-test** is the correct choice here.  \n"
      ],
      "metadata": {
        "id": "WiKVzivUEqeu"
      }
    },
    {
      "cell_type": "code",
      "source": [],
      "metadata": {
        "id": "0o3Xj9oYEu4H"
      },
      "execution_count": null,
      "outputs": []
    },
    {
      "cell_type": "code",
      "execution_count": null,
      "metadata": {
        "id": "WnpixGnIsI1i"
      },
      "outputs": [],
      "source": [
        "# 2. Importing Libraries\n",
        "import pandas as pd\n",
        "import numpy as np\n",
        "import matplotlib.pyplot as plt\n",
        "import seaborn as sns\n",
        "from statsmodels.stats.proportion import proportions_ztest, confint_proportions_2indep\n"
      ]
    },
    {
      "cell_type": "code",
      "source": [
        "# 3. Load and Inspect Data\n",
        "\n",
        "import kagglehub\n",
        "\n",
        "# Download latest version\n",
        "path = kagglehub.dataset_download(\"putdejudomthai/ecommerce-ab-testing-2022-dataset1\")\n",
        "\n",
        "print(\"Path to dataset files:\", path)\n"
      ],
      "metadata": {
        "colab": {
          "base_uri": "https://localhost:8080/"
        },
        "id": "DTLhKnEAtSgW",
        "outputId": "a39ac9b2-45e7-455c-a582-fdc6cfe87ace"
      },
      "execution_count": null,
      "outputs": [
        {
          "output_type": "stream",
          "name": "stdout",
          "text": [
            "Path to dataset files: /kaggle/input/ecommerce-ab-testing-2022-dataset1\n"
          ]
        }
      ]
    },
    {
      "cell_type": "code",
      "source": [
        "df = pd.read_csv(path + \"/ecommerce_ab_testing_2022_dataset1/ab_data.csv\")"
      ],
      "metadata": {
        "id": "3SggQOPett-U"
      },
      "execution_count": null,
      "outputs": []
    },
    {
      "cell_type": "code",
      "metadata": {
        "colab": {
          "base_uri": "https://localhost:8080/"
        },
        "id": "13c649df",
        "outputId": "a0d3a4da-6cd4-46c2-ee38-43bde1c89af1"
      },
      "source": [
        "import os\n",
        "print(os.listdir(path))"
      ],
      "execution_count": null,
      "outputs": [
        {
          "output_type": "stream",
          "name": "stdout",
          "text": [
            "['ecommerce_ab_testing_2022_dataset1']\n"
          ]
        }
      ]
    },
    {
      "cell_type": "code",
      "source": [
        "df.head()"
      ],
      "metadata": {
        "colab": {
          "base_uri": "https://localhost:8080/",
          "height": 206
        },
        "id": "j0O_Gvs6u9St",
        "outputId": "d3db604c-2aae-422d-98a8-4c2fd0cb08ee"
      },
      "execution_count": null,
      "outputs": [
        {
          "output_type": "execute_result",
          "data": {
            "text/plain": [
              "   user_id timestamp      group landing_page  converted\n",
              "0   851104   11:48.6    control     old_page          0\n",
              "1   804228   01:45.2    control     old_page          0\n",
              "2   661590   55:06.2  treatment     new_page          0\n",
              "3   853541   28:03.1  treatment     new_page          0\n",
              "4   864975   52:26.2    control     old_page          1"
            ],
            "text/html": [
              "\n",
              "  <div id=\"df-8abd8a90-a0e7-466b-821f-37136896daa4\" class=\"colab-df-container\">\n",
              "    <div>\n",
              "<style scoped>\n",
              "    .dataframe tbody tr th:only-of-type {\n",
              "        vertical-align: middle;\n",
              "    }\n",
              "\n",
              "    .dataframe tbody tr th {\n",
              "        vertical-align: top;\n",
              "    }\n",
              "\n",
              "    .dataframe thead th {\n",
              "        text-align: right;\n",
              "    }\n",
              "</style>\n",
              "<table border=\"1\" class=\"dataframe\">\n",
              "  <thead>\n",
              "    <tr style=\"text-align: right;\">\n",
              "      <th></th>\n",
              "      <th>user_id</th>\n",
              "      <th>timestamp</th>\n",
              "      <th>group</th>\n",
              "      <th>landing_page</th>\n",
              "      <th>converted</th>\n",
              "    </tr>\n",
              "  </thead>\n",
              "  <tbody>\n",
              "    <tr>\n",
              "      <th>0</th>\n",
              "      <td>851104</td>\n",
              "      <td>11:48.6</td>\n",
              "      <td>control</td>\n",
              "      <td>old_page</td>\n",
              "      <td>0</td>\n",
              "    </tr>\n",
              "    <tr>\n",
              "      <th>1</th>\n",
              "      <td>804228</td>\n",
              "      <td>01:45.2</td>\n",
              "      <td>control</td>\n",
              "      <td>old_page</td>\n",
              "      <td>0</td>\n",
              "    </tr>\n",
              "    <tr>\n",
              "      <th>2</th>\n",
              "      <td>661590</td>\n",
              "      <td>55:06.2</td>\n",
              "      <td>treatment</td>\n",
              "      <td>new_page</td>\n",
              "      <td>0</td>\n",
              "    </tr>\n",
              "    <tr>\n",
              "      <th>3</th>\n",
              "      <td>853541</td>\n",
              "      <td>28:03.1</td>\n",
              "      <td>treatment</td>\n",
              "      <td>new_page</td>\n",
              "      <td>0</td>\n",
              "    </tr>\n",
              "    <tr>\n",
              "      <th>4</th>\n",
              "      <td>864975</td>\n",
              "      <td>52:26.2</td>\n",
              "      <td>control</td>\n",
              "      <td>old_page</td>\n",
              "      <td>1</td>\n",
              "    </tr>\n",
              "  </tbody>\n",
              "</table>\n",
              "</div>\n",
              "    <div class=\"colab-df-buttons\">\n",
              "\n",
              "  <div class=\"colab-df-container\">\n",
              "    <button class=\"colab-df-convert\" onclick=\"convertToInteractive('df-8abd8a90-a0e7-466b-821f-37136896daa4')\"\n",
              "            title=\"Convert this dataframe to an interactive table.\"\n",
              "            style=\"display:none;\">\n",
              "\n",
              "  <svg xmlns=\"http://www.w3.org/2000/svg\" height=\"24px\" viewBox=\"0 -960 960 960\">\n",
              "    <path d=\"M120-120v-720h720v720H120Zm60-500h600v-160H180v160Zm220 220h160v-160H400v160Zm0 220h160v-160H400v160ZM180-400h160v-160H180v160Zm440 0h160v-160H620v160ZM180-180h160v-160H180v160Zm440 0h160v-160H620v160Z\"/>\n",
              "  </svg>\n",
              "    </button>\n",
              "\n",
              "  <style>\n",
              "    .colab-df-container {\n",
              "      display:flex;\n",
              "      gap: 12px;\n",
              "    }\n",
              "\n",
              "    .colab-df-convert {\n",
              "      background-color: #E8F0FE;\n",
              "      border: none;\n",
              "      border-radius: 50%;\n",
              "      cursor: pointer;\n",
              "      display: none;\n",
              "      fill: #1967D2;\n",
              "      height: 32px;\n",
              "      padding: 0 0 0 0;\n",
              "      width: 32px;\n",
              "    }\n",
              "\n",
              "    .colab-df-convert:hover {\n",
              "      background-color: #E2EBFA;\n",
              "      box-shadow: 0px 1px 2px rgba(60, 64, 67, 0.3), 0px 1px 3px 1px rgba(60, 64, 67, 0.15);\n",
              "      fill: #174EA6;\n",
              "    }\n",
              "\n",
              "    .colab-df-buttons div {\n",
              "      margin-bottom: 4px;\n",
              "    }\n",
              "\n",
              "    [theme=dark] .colab-df-convert {\n",
              "      background-color: #3B4455;\n",
              "      fill: #D2E3FC;\n",
              "    }\n",
              "\n",
              "    [theme=dark] .colab-df-convert:hover {\n",
              "      background-color: #434B5C;\n",
              "      box-shadow: 0px 1px 3px 1px rgba(0, 0, 0, 0.15);\n",
              "      filter: drop-shadow(0px 1px 2px rgba(0, 0, 0, 0.3));\n",
              "      fill: #FFFFFF;\n",
              "    }\n",
              "  </style>\n",
              "\n",
              "    <script>\n",
              "      const buttonEl =\n",
              "        document.querySelector('#df-8abd8a90-a0e7-466b-821f-37136896daa4 button.colab-df-convert');\n",
              "      buttonEl.style.display =\n",
              "        google.colab.kernel.accessAllowed ? 'block' : 'none';\n",
              "\n",
              "      async function convertToInteractive(key) {\n",
              "        const element = document.querySelector('#df-8abd8a90-a0e7-466b-821f-37136896daa4');\n",
              "        const dataTable =\n",
              "          await google.colab.kernel.invokeFunction('convertToInteractive',\n",
              "                                                    [key], {});\n",
              "        if (!dataTable) return;\n",
              "\n",
              "        const docLinkHtml = 'Like what you see? Visit the ' +\n",
              "          '<a target=\"_blank\" href=https://colab.research.google.com/notebooks/data_table.ipynb>data table notebook</a>'\n",
              "          + ' to learn more about interactive tables.';\n",
              "        element.innerHTML = '';\n",
              "        dataTable['output_type'] = 'display_data';\n",
              "        await google.colab.output.renderOutput(dataTable, element);\n",
              "        const docLink = document.createElement('div');\n",
              "        docLink.innerHTML = docLinkHtml;\n",
              "        element.appendChild(docLink);\n",
              "      }\n",
              "    </script>\n",
              "  </div>\n",
              "\n",
              "\n",
              "    <div id=\"df-6ad6f99f-c2fd-4963-9d20-2dc08ff3e350\">\n",
              "      <button class=\"colab-df-quickchart\" onclick=\"quickchart('df-6ad6f99f-c2fd-4963-9d20-2dc08ff3e350')\"\n",
              "                title=\"Suggest charts\"\n",
              "                style=\"display:none;\">\n",
              "\n",
              "<svg xmlns=\"http://www.w3.org/2000/svg\" height=\"24px\"viewBox=\"0 0 24 24\"\n",
              "     width=\"24px\">\n",
              "    <g>\n",
              "        <path d=\"M19 3H5c-1.1 0-2 .9-2 2v14c0 1.1.9 2 2 2h14c1.1 0 2-.9 2-2V5c0-1.1-.9-2-2-2zM9 17H7v-7h2v7zm4 0h-2V7h2v10zm4 0h-2v-4h2v4z\"/>\n",
              "    </g>\n",
              "</svg>\n",
              "      </button>\n",
              "\n",
              "<style>\n",
              "  .colab-df-quickchart {\n",
              "      --bg-color: #E8F0FE;\n",
              "      --fill-color: #1967D2;\n",
              "      --hover-bg-color: #E2EBFA;\n",
              "      --hover-fill-color: #174EA6;\n",
              "      --disabled-fill-color: #AAA;\n",
              "      --disabled-bg-color: #DDD;\n",
              "  }\n",
              "\n",
              "  [theme=dark] .colab-df-quickchart {\n",
              "      --bg-color: #3B4455;\n",
              "      --fill-color: #D2E3FC;\n",
              "      --hover-bg-color: #434B5C;\n",
              "      --hover-fill-color: #FFFFFF;\n",
              "      --disabled-bg-color: #3B4455;\n",
              "      --disabled-fill-color: #666;\n",
              "  }\n",
              "\n",
              "  .colab-df-quickchart {\n",
              "    background-color: var(--bg-color);\n",
              "    border: none;\n",
              "    border-radius: 50%;\n",
              "    cursor: pointer;\n",
              "    display: none;\n",
              "    fill: var(--fill-color);\n",
              "    height: 32px;\n",
              "    padding: 0;\n",
              "    width: 32px;\n",
              "  }\n",
              "\n",
              "  .colab-df-quickchart:hover {\n",
              "    background-color: var(--hover-bg-color);\n",
              "    box-shadow: 0 1px 2px rgba(60, 64, 67, 0.3), 0 1px 3px 1px rgba(60, 64, 67, 0.15);\n",
              "    fill: var(--button-hover-fill-color);\n",
              "  }\n",
              "\n",
              "  .colab-df-quickchart-complete:disabled,\n",
              "  .colab-df-quickchart-complete:disabled:hover {\n",
              "    background-color: var(--disabled-bg-color);\n",
              "    fill: var(--disabled-fill-color);\n",
              "    box-shadow: none;\n",
              "  }\n",
              "\n",
              "  .colab-df-spinner {\n",
              "    border: 2px solid var(--fill-color);\n",
              "    border-color: transparent;\n",
              "    border-bottom-color: var(--fill-color);\n",
              "    animation:\n",
              "      spin 1s steps(1) infinite;\n",
              "  }\n",
              "\n",
              "  @keyframes spin {\n",
              "    0% {\n",
              "      border-color: transparent;\n",
              "      border-bottom-color: var(--fill-color);\n",
              "      border-left-color: var(--fill-color);\n",
              "    }\n",
              "    20% {\n",
              "      border-color: transparent;\n",
              "      border-left-color: var(--fill-color);\n",
              "      border-top-color: var(--fill-color);\n",
              "    }\n",
              "    30% {\n",
              "      border-color: transparent;\n",
              "      border-left-color: var(--fill-color);\n",
              "      border-top-color: var(--fill-color);\n",
              "      border-right-color: var(--fill-color);\n",
              "    }\n",
              "    40% {\n",
              "      border-color: transparent;\n",
              "      border-right-color: var(--fill-color);\n",
              "      border-top-color: var(--fill-color);\n",
              "    }\n",
              "    60% {\n",
              "      border-color: transparent;\n",
              "      border-right-color: var(--fill-color);\n",
              "    }\n",
              "    80% {\n",
              "      border-color: transparent;\n",
              "      border-right-color: var(--fill-color);\n",
              "      border-bottom-color: var(--fill-color);\n",
              "    }\n",
              "    90% {\n",
              "      border-color: transparent;\n",
              "      border-bottom-color: var(--fill-color);\n",
              "    }\n",
              "  }\n",
              "</style>\n",
              "\n",
              "      <script>\n",
              "        async function quickchart(key) {\n",
              "          const quickchartButtonEl =\n",
              "            document.querySelector('#' + key + ' button');\n",
              "          quickchartButtonEl.disabled = true;  // To prevent multiple clicks.\n",
              "          quickchartButtonEl.classList.add('colab-df-spinner');\n",
              "          try {\n",
              "            const charts = await google.colab.kernel.invokeFunction(\n",
              "                'suggestCharts', [key], {});\n",
              "          } catch (error) {\n",
              "            console.error('Error during call to suggestCharts:', error);\n",
              "          }\n",
              "          quickchartButtonEl.classList.remove('colab-df-spinner');\n",
              "          quickchartButtonEl.classList.add('colab-df-quickchart-complete');\n",
              "        }\n",
              "        (() => {\n",
              "          let quickchartButtonEl =\n",
              "            document.querySelector('#df-6ad6f99f-c2fd-4963-9d20-2dc08ff3e350 button');\n",
              "          quickchartButtonEl.style.display =\n",
              "            google.colab.kernel.accessAllowed ? 'block' : 'none';\n",
              "        })();\n",
              "      </script>\n",
              "    </div>\n",
              "\n",
              "    </div>\n",
              "  </div>\n"
            ],
            "application/vnd.google.colaboratory.intrinsic+json": {
              "type": "dataframe",
              "variable_name": "df"
            }
          },
          "metadata": {},
          "execution_count": 23
        }
      ]
    },
    {
      "cell_type": "code",
      "source": [
        "# Shape and column info\n",
        "print(df.shape)\n",
        "print(df.info())\n"
      ],
      "metadata": {
        "colab": {
          "base_uri": "https://localhost:8080/"
        },
        "id": "R000VPfYvHhm",
        "outputId": "ffcb82c1-f0e9-4371-ded3-368614392b05"
      },
      "execution_count": null,
      "outputs": [
        {
          "output_type": "stream",
          "name": "stdout",
          "text": [
            "(294480, 5)\n",
            "<class 'pandas.core.frame.DataFrame'>\n",
            "RangeIndex: 294480 entries, 0 to 294479\n",
            "Data columns (total 5 columns):\n",
            " #   Column        Non-Null Count   Dtype \n",
            "---  ------        --------------   ----- \n",
            " 0   user_id       294480 non-null  int64 \n",
            " 1   timestamp     294480 non-null  object\n",
            " 2   group         294480 non-null  object\n",
            " 3   landing_page  294480 non-null  object\n",
            " 4   converted     294480 non-null  int64 \n",
            "dtypes: int64(2), object(3)\n",
            "memory usage: 11.2+ MB\n",
            "None\n"
          ]
        }
      ]
    },
    {
      "cell_type": "code",
      "source": [
        "# Check missing values and duplicates\n",
        "print(df.isnull().sum())\n",
        "df = df.drop_duplicates(subset=\"user_id\", keep=False)\n",
        "print(f\"Data after removing duplicates: {df.shape}\")\n"
      ],
      "metadata": {
        "colab": {
          "base_uri": "https://localhost:8080/"
        },
        "id": "rRJ5NDqgvMOE",
        "outputId": "d419725b-d273-43a4-f31c-9339a8e656fe"
      },
      "execution_count": null,
      "outputs": [
        {
          "output_type": "stream",
          "name": "stdout",
          "text": [
            "user_id         0\n",
            "timestamp       0\n",
            "group           0\n",
            "landing_page    0\n",
            "converted       0\n",
            "dtype: int64\n",
            "Data after removing duplicates: (286690, 5)\n"
          ]
        }
      ]
    },
    {
      "cell_type": "markdown",
      "source": [
        "## 4. Exploratory Data Analysis (EDA)\n"
      ],
      "metadata": {
        "id": "gA8clj0pvQsl"
      }
    },
    {
      "cell_type": "code",
      "source": [
        "# Conversion rate by group\n",
        "conversion_rates = df.groupby(\"group\")[\"converted\"].mean()\n",
        "print(conversion_rates)"
      ],
      "metadata": {
        "colab": {
          "base_uri": "https://localhost:8080/"
        },
        "id": "wwbUlXoqBCHW",
        "outputId": "f87a25b6-b524-478a-faa1-d84ad36b7ced"
      },
      "execution_count": null,
      "outputs": [
        {
          "output_type": "stream",
          "name": "stdout",
          "text": [
            "group\n",
            "control      0.120173\n",
            "treatment    0.118726\n",
            "Name: converted, dtype: float64\n"
          ]
        }
      ]
    },
    {
      "cell_type": "code",
      "source": [
        "# Count of users per group\n",
        "group_counts = df[\"group\"].value_counts()\n",
        "print(group_counts)"
      ],
      "metadata": {
        "colab": {
          "base_uri": "https://localhost:8080/"
        },
        "id": "MoYRkJBzBGlI",
        "outputId": "3caf18e2-13da-438f-d4aa-237aeac16c91"
      },
      "execution_count": null,
      "outputs": [
        {
          "output_type": "stream",
          "name": "stdout",
          "text": [
            "group\n",
            "treatment    143397\n",
            "control      143293\n",
            "Name: count, dtype: int64\n"
          ]
        }
      ]
    },
    {
      "cell_type": "code",
      "source": [
        "\n",
        "# Bar plot\n",
        "sns.barplot(x=\"group\", y=\"converted\", data=df, ci=95, palette=\"Set2\")\n",
        "plt.title(\"Conversion Rate by Group\")\n",
        "plt.ylabel(\"Conversion Rate\")\n",
        "plt.show()"
      ],
      "metadata": {
        "colab": {
          "base_uri": "https://localhost:8080/",
          "height": 666
        },
        "id": "wwRuvNqZB15E",
        "outputId": "584588d4-14ba-4680-d975-91dcf72a7262"
      },
      "execution_count": null,
      "outputs": [
        {
          "output_type": "stream",
          "name": "stderr",
          "text": [
            "/tmp/ipython-input-807222580.py:2: FutureWarning: \n",
            "\n",
            "The `ci` parameter is deprecated. Use `errorbar=('ci', 95)` for the same effect.\n",
            "\n",
            "  sns.barplot(x=\"group\", y=\"converted\", data=df, ci=95, palette=\"Set2\")\n",
            "/tmp/ipython-input-807222580.py:2: FutureWarning: \n",
            "\n",
            "Passing `palette` without assigning `hue` is deprecated and will be removed in v0.14.0. Assign the `x` variable to `hue` and set `legend=False` for the same effect.\n",
            "\n",
            "  sns.barplot(x=\"group\", y=\"converted\", data=df, ci=95, palette=\"Set2\")\n"
          ]
        },
        {
          "output_type": "display_data",
          "data": {
            "text/plain": [
              "<Figure size 640x480 with 1 Axes>"
            ],
            "image/png": "[encoded data removed]"
          },
          "metadata": {}
        }
      ]
    },
    {
      "cell_type": "markdown",
      "source": [
        "## 5. Hypothesis Testing\n",
        "We perform a **two-proportion z-test** to check if the difference in conversion rates is statistically significant.\n"
      ],
      "metadata": {
        "id": "IdJr_AWegeKr"
      }
    },
    {
      "cell_type": "code",
      "source": [
        "# Counts of conversions\n",
        "counts = df.groupby(\"group\")[\"converted\"].sum().values\n",
        "nobs = df.groupby(\"group\")[\"converted\"].count().values\n"
      ],
      "metadata": {
        "id": "c4uEHmJ2ghNz"
      },
      "execution_count": null,
      "outputs": []
    },
    {
      "cell_type": "code",
      "source": [
        "# Z-test\n",
        "z_stat, p_val = proportions_ztest(counts, nobs, alternative='two-sided')\n"
      ],
      "metadata": {
        "id": "Pzm2aLuRhXM1"
      },
      "execution_count": null,
      "outputs": []
    },
    {
      "cell_type": "code",
      "source": [
        "# Confidence Interval for difference\n",
        "ci_low, ci_upp = confint_proportions_2indep(counts[0], nobs[0], counts[1], nobs[1], method='agresti-coull')"
      ],
      "metadata": {
        "id": "vLVN1Bf_EBb7"
      },
      "execution_count": null,
      "outputs": []
    },
    {
      "cell_type": "code",
      "source": [
        "print(f\"Z-statistic: {z_stat:.2f}\")\n",
        "print(f\"P-value: {p_val:.4f}\")\n",
        "print(f\"95% CI for conversion difference: {ci_low:.4f} to {ci_upp:.4f}\")"
      ],
      "metadata": {
        "colab": {
          "base_uri": "https://localhost:8080/"
        },
        "id": "Pb3qj42cEp1h",
        "outputId": "0de8ca07-3553-4c1c-ec76-55278364f413"
      },
      "execution_count": null,
      "outputs": [
        {
          "output_type": "stream",
          "name": "stdout",
          "text": [
            "Z-statistic: 1.19\n",
            "P-value: 0.2323\n",
            "95% CI for conversion difference: -0.0009 to 0.0038\n"
          ]
        }
      ]
    },
    {
      "cell_type": "markdown",
      "source": [
        "## 6. Power & Effect Size Analysis\n"
      ],
      "metadata": {
        "id": "wVNFIZ7f1o5f"
      }
    },
    {
      "cell_type": "code",
      "source": [
        "from statsmodels.stats.power import NormalIndPower\n",
        "\n",
        "# Effect size = difference in conversion rates\n",
        "p1, p2 = conversion_rates\n",
        "effect_size = abs(p1 - p2)\n",
        "p1,p2"
      ],
      "metadata": {
        "colab": {
          "base_uri": "https://localhost:8080/"
        },
        "id": "E4LwtVWe1qOE",
        "outputId": "da74d7c9-acd5-4a56-db35-251e0da5a55f"
      },
      "execution_count": null,
      "outputs": [
        {
          "output_type": "execute_result",
          "data": {
            "text/plain": [
              "(0.12017335110577627, 0.11872633318688676)"
            ]
          },
          "metadata": {},
          "execution_count": 36
        }
      ]
    },
    {
      "cell_type": "code",
      "source": [
        "\n",
        "# Power calculation (80%)\n",
        "analysis = NormalIndPower()\n",
        "power = analysis.solve_power(effect_size=effect_size, nobs1=nobs[0], alpha=0.05, ratio=nobs[1]/nobs[0])\n",
        "print(f\"Statistical Power of the test: {power:.3f}\")"
      ],
      "metadata": {
        "colab": {
          "base_uri": "https://localhost:8080/"
        },
        "id": "sqeQnnE83dBW",
        "outputId": "01e15834-b6ab-4aaa-8731-a3f6d4cbaf21"
      },
      "execution_count": null,
      "outputs": [
        {
          "output_type": "stream",
          "name": "stdout",
          "text": [
            "Statistical Power of the test: 0.067\n"
          ]
        }
      ]
    },
    {
      "cell_type": "code",
      "source": [
        "from statsmodels.stats.power import NormalIndPower\n",
        "\n",
        "power_analysis = NormalIndPower()\n",
        "\n",
        "required_n = power_analysis.solve_power(effect_size=effect_size,\n",
        "                                        alpha=0.05,\n",
        "                                        power=0.8,\n",
        "                                        ratio=1)\n",
        "print(\"Required sample size per group:\", required_n)\n"
      ],
      "metadata": {
        "colab": {
          "base_uri": "https://localhost:8080/"
        },
        "id": "9QCfNTWw4Qy2",
        "outputId": "fb802cb9-7f2c-4c20-9f1b-d181305b7e54"
      },
      "execution_count": null,
      "outputs": [
        {
          "output_type": "stream",
          "name": "stdout",
          "text": [
            "Required sample size per group: 7497022.04985108\n"
          ]
        }
      ]
    },
    {
      "cell_type": "markdown",
      "source": [
        "## 6. Conclusion\n",
        "\n",
        "- The **conversion rate** of the control group (old page) was **~12.02%**, while the treatment group (new page) was **~11.87%**.  \n",
        "- A **two-proportion z-test** was conducted, resulting in a **p-value of 0.2323**, which is greater than the 0.05 significance threshold.  \n",
        "  - ✅ This means we **fail to reject the null hypothesis**.  \n",
        "  - There is **no statistically significant difference** in conversion rates between the old and new pages.  \n",
        "\n",
        "- The **95% confidence interval** for the difference in conversion rates ranged from **-0.0009 to 0.0038**, which includes **zero**.  \n",
        "  - ✅ This further supports that the difference is negligible and could be due to random chance.  \n",
        "\n",
        "- A **power analysis** showed that the current test has very **low power (≈ 6.7%)**.  \n",
        "  - To achieve 80% power for detecting such a small difference, we would need **~7.5 million users per group**, which is impractical.  \n",
        "\n",
        "### 📌 Final Insight\n",
        "The new page **does not show any meaningful improvement** in conversion rates compared to the old page.  \n",
        "Given the extremely small observed effect and the impractical sample size required to confirm it, the company should **not roll out the new page based on this test alone**. Future experiments could focus on **bigger design changes** or **different features** that are more likely to drive noticeable impact.  \n"
      ],
      "metadata": {
        "id": "q9CbmzRwI6m_"
      }
    }
  ]
}